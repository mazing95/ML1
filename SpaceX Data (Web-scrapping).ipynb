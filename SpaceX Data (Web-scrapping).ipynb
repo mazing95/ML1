{
 "cells": [
  {
   "cell_type": "markdown",
   "id": "d4cb769e",
   "metadata": {},
   "source": [
    "# Part 2: Web scraping Falcon 9 and Falcon Heavy Launches Records from Wikipedia\n"
   ]
  },
  {
   "cell_type": "markdown",
   "id": "25656e1c",
   "metadata": {},
   "source": [
    "Performing web scraping to collect Falcon 9 historical launch records from a Wikipedia page titled `List of Falcon 9 and Falcon Heavy launches`\n",
    "\n",
    "https://en.wikipedia.org/wiki/List_of_Falcon_9_and_Falcon_Heavy_launches"
   ]
  },
  {
   "cell_type": "markdown",
   "id": "f9b394c2",
   "metadata": {},
   "source": [
    "![](https://cf-courses-data.s3.us.cloud-object-storage.appdomain.cloud/IBM-DS0321EN-SkillsNetwork/labs/module_1_L2/images/Falcon9_rocket_family.svg)\n"
   ]
  },
  {
   "cell_type": "markdown",
   "id": "23f0d151",
   "metadata": {},
   "source": [
    "Falcon 9 first stage will land successfully"
   ]
  },
  {
   "cell_type": "markdown",
   "id": "885157fb",
   "metadata": {},
   "source": [
    "![](https://cf-courses-data.s3.us.cloud-object-storage.appdomain.cloud/IBMDeveloperSkillsNetwork-DS0701EN-SkillsNetwork/api/Images/landing_1.gif)\n"
   ]
  },
  {
   "cell_type": "markdown",
   "id": "466af314",
   "metadata": {},
   "source": [
    "Several examples of an unsuccessful landing are shown here:\n"
   ]
  },
  {
   "cell_type": "markdown",
   "id": "7de0d036",
   "metadata": {},
   "source": [
    "![](https://cf-courses-data.s3.us.cloud-object-storage.appdomain.cloud/IBMDeveloperSkillsNetwork-DS0701EN-SkillsNetwork/api/Images/crash.gif)\n"
   ]
  },
  {
   "cell_type": "markdown",
   "id": "487164c6",
   "metadata": {},
   "source": [
    "More specifically, the launch records are stored in a HTML table shown below:"
   ]
  },
  {
   "cell_type": "markdown",
   "id": "e2fb65cf",
   "metadata": {},
   "source": [
    "![](https://cf-courses-data.s3.us.cloud-object-storage.appdomain.cloud/IBM-DS0321EN-SkillsNetwork/labs/module_1_L2/images/falcon9-launches-wiki.png)\n"
   ]
  },
  {
   "cell_type": "markdown",
   "id": "e4b7104e",
   "metadata": {},
   "source": [
    " ## Objectives\n",
    "Web scrap Falcon 9 launch records with `BeautifulSoup`: \n",
    "- Extract a Falcon 9 launch records HTML table from Wikipedia\n",
    "- Parse the table and convert it into a Pandas data frame\n"
   ]
  },
  {
   "cell_type": "markdown",
   "id": "0705374d",
   "metadata": {},
   "source": [
    "Importing required packages"
   ]
  },
  {
   "cell_type": "code",
   "execution_count": 5,
   "id": "6f5f2988",
   "metadata": {},
   "outputs": [
    {
     "name": "stdout",
     "output_type": "stream",
     "text": [
      "Requirement already satisfied: beautifulsoup4 in ./anaconda3/lib/python3.11/site-packages (4.12.2)\n",
      "Requirement already satisfied: soupsieve>1.2 in ./anaconda3/lib/python3.11/site-packages (from beautifulsoup4) (2.4)\n",
      "Requirement already satisfied: requests in ./anaconda3/lib/python3.11/site-packages (2.29.0)\n",
      "Requirement already satisfied: charset-normalizer<4,>=2 in ./anaconda3/lib/python3.11/site-packages (from requests) (2.0.4)\n",
      "Requirement already satisfied: idna<4,>=2.5 in ./anaconda3/lib/python3.11/site-packages (from requests) (3.4)\n",
      "Requirement already satisfied: urllib3<1.27,>=1.21.1 in ./anaconda3/lib/python3.11/site-packages (from requests) (1.26.16)\n",
      "Requirement already satisfied: certifi>=2017.4.17 in ./anaconda3/lib/python3.11/site-packages (from requests) (2023.5.7)\n"
     ]
    }
   ],
   "source": [
    "!pip3 install beautifulsoup4\n",
    "!pip3 install requests"
   ]
  },
  {
   "cell_type": "code",
   "execution_count": 6,
   "id": "81b2bfbc",
   "metadata": {},
   "outputs": [],
   "source": [
    "import sys\n",
    "\n",
    "import requests\n",
    "from bs4 import BeautifulSoup\n",
    "import re\n",
    "import unicodedata\n",
    "import pandas as pd"
   ]
  },
  {
   "cell_type": "markdown",
   "id": "547ce29b",
   "metadata": {},
   "source": [
    "Helper functions for web scrapping  "
   ]
  },
  {
   "cell_type": "code",
   "execution_count": 34,
   "id": "29b632f2",
   "metadata": {},
   "outputs": [],
   "source": [
    "def date_time(table_cells):\n",
    "    \"\"\"\n",
    "    This function returns the data and time from the HTML  table cell\n",
    "    Input: the  element of a table data cell extracts extra row\n",
    "    \"\"\"\n",
    "    return [data_time.strip() for data_time in list(table_cells.strings)][0:2]\n",
    "\n",
    "def booster_version(table_cells):\n",
    "    \"\"\"\n",
    "    This function returns the booster version from the HTML  table cell \n",
    "    Input: the  element of a table data cell extracts extra row\n",
    "    \"\"\"\n",
    "    out=''.join([booster_version for i,booster_version in enumerate( table_cells.strings) if i%2==0][0:-1])\n",
    "    return out\n",
    "\n",
    "def landing_status(table_cells):\n",
    "    \"\"\"\n",
    "    This function returns the landing status from the HTML table cell \n",
    "    Input: the  element of a table data cell extracts extra row\n",
    "    \"\"\"\n",
    "    out=[i for i in table_cells.strings][0]\n",
    "    return out\n",
    "\n",
    "\n",
    "def get_mass(table_cells):\n",
    "    mass=unicodedata.normalize(\"NFKD\", table_cells.text).strip()\n",
    "    if mass:\n",
    "        mass.find(\"kg\")\n",
    "        new_mass=mass[0:mass.find(\"kg\")+2]\n",
    "    else:\n",
    "        new_mass=0\n",
    "    return new_mass\n",
    "\n",
    "\n",
    "def extract_column_from_header(row):\n",
    "    \"\"\"\n",
    "    This function returns the landing status from the HTML table cell \n",
    "    Input: the  element of a table data cell extracts extra row\n",
    "    \"\"\"\n",
    "    if (row.br):\n",
    "        row.br.extract()\n",
    "    if row.a:\n",
    "        row.a.extract()\n",
    "    if row.sup:\n",
    "        row.sup.extract()\n",
    "        \n",
    "    # Extract text content from the row and filter out non-empty strings\n",
    "    column_name = ' '.join(filter(None, (item.strip() for item in row.stripped_strings)))\n",
    "    # Filter out digits and empty names\n",
    "    if not column_name.isdigit():\n",
    "        return column_name   \n",
    "      "
   ]
  },
  {
   "cell_type": "markdown",
   "id": "361fbbbd",
   "metadata": {},
   "source": [
    "Scrapping the data from a snapshot of the  `List of Falcon 9 and Falcon Heavy launches` Wikipage updated on\n",
    "`9th June 2021`\n",
    "\n"
   ]
  },
  {
   "cell_type": "code",
   "execution_count": 10,
   "id": "bfc5f579",
   "metadata": {},
   "outputs": [],
   "source": [
    "static_url = \"https://en.wikipedia.org/w/index.php?title=List_of_Falcon_9_and_Falcon_Heavy_launches&oldid=1027686922\""
   ]
  },
  {
   "cell_type": "markdown",
   "id": "d6ce7e78",
   "metadata": {},
   "source": [
    "### 1 Requesting the Falcon9 Launch Wiki page from its URL"
   ]
  },
  {
   "cell_type": "markdown",
   "id": "8e2a6d5b",
   "metadata": {},
   "source": [
    "Performing an HTTP GET method to request the Falcon9 Launch HTML page, as an HTTP response."
   ]
  },
  {
   "cell_type": "code",
   "execution_count": 11,
   "id": "4fe3b8da",
   "metadata": {},
   "outputs": [
    {
     "name": "stdout",
     "output_type": "stream",
     "text": [
      "HTTP GET request successful.\n"
     ]
    }
   ],
   "source": [
    "# Performing an HTTP GET request to retrieve the HTML content\n",
    "response = requests.get(static_url)\n",
    "\n",
    "# Check the response status code\n",
    "if response.status_code == 200:\n",
    "    print(\"HTTP GET request successful.\")\n",
    "else:\n",
    "    print(f\"HTTP GET request failed with status code: {response.status_code}\")"
   ]
  },
  {
   "cell_type": "markdown",
   "id": "b7844313",
   "metadata": {},
   "source": [
    "Creating a `BeautifulSoup` object from the HTML `response`"
   ]
  },
  {
   "cell_type": "code",
   "execution_count": 12,
   "id": "da6a5444",
   "metadata": {},
   "outputs": [],
   "source": [
    "# Creating a BeautifulSoup object from the HTML content\n",
    "soup = BeautifulSoup(response.content, 'html.parser')"
   ]
  },
  {
   "cell_type": "markdown",
   "id": "d64716ae",
   "metadata": {},
   "source": [
    "### Extracting all column/variable names from the HTML table header"
   ]
  },
  {
   "cell_type": "code",
   "execution_count": 14,
   "id": "673b2db2",
   "metadata": {},
   "outputs": [],
   "source": [
    "# Using find_all function to find all tables in the HTML and assigning the result to a list called `html_tables`\n",
    "html_tables = soup.find_all('table')"
   ]
  },
  {
   "cell_type": "markdown",
   "id": "b502f8f7",
   "metadata": {},
   "source": [
    "Checking contents of `html_tables`"
   ]
  },
  {
   "cell_type": "code",
   "execution_count": null,
   "id": "3a5e1047",
   "metadata": {},
   "outputs": [],
   "source": [
    "# Iterating through each table and print its contents\n",
    "for index, table in enumerate(html_tables):\n",
    "    print(f\"Table {index + 1}:\")\n",
    "    print(table.prettify())  # Printing the table's contents with proper formatting\n",
    "    print(\"=\" * 40)  # Printing a separator line"
   ]
  },
  {
   "cell_type": "markdown",
   "id": "d8e11613",
   "metadata": {},
   "source": [
    "Starting from the third table is our target table contains the actual launch records"
   ]
  },
  {
   "cell_type": "code",
   "execution_count": null,
   "id": "45782ce9",
   "metadata": {},
   "outputs": [],
   "source": [
    "# Printing the third table and check its content\n",
    "first_launch_table = html_tables[2]\n",
    "print(first_launch_table)"
   ]
  },
  {
   "cell_type": "markdown",
   "id": "327d77f5",
   "metadata": {},
   "source": [
    "Column names are imbedded in `<th>` as follows:"
   ]
  },
  {
   "cell_type": "markdown",
   "id": "949cd05f",
   "metadata": {},
   "source": [
    "```\n",
    "<tr>\n",
    "<th scope=\"col\">Flight No.\n",
    "</th>\n",
    "<th scope=\"col\">Date and<br/>time (<a href=\"/wiki/Coordinated_Universal_Time\" title=\"Coordinated Universal Time\">UTC</a>)\n",
    "</th>\n",
    "<th scope=\"col\"><a href=\"/wiki/List_of_Falcon_9_first-stage_boosters\" title=\"List of Falcon 9 first-stage boosters\">Version,<br/>Booster</a> <sup class=\"reference\" id=\"cite_ref-booster_11-0\"><a href=\"#cite_note-booster-11\">[b]</a></sup>\n",
    "</th>\n",
    "<th scope=\"col\">Launch site\n",
    "</th>\n",
    "<th scope=\"col\">Payload<sup class=\"reference\" id=\"cite_ref-Dragon_12-0\"><a href=\"#cite_note-Dragon-12\">[c]</a></sup>\n",
    "</th>\n",
    "<th scope=\"col\">Payload mass\n",
    "</th>\n",
    "<th scope=\"col\">Orbit\n",
    "</th>\n",
    "<th scope=\"col\">Customer\n",
    "</th>\n",
    "<th scope=\"col\">Launch<br/>outcome\n",
    "</th>\n",
    "<th scope=\"col\"><a href=\"/wiki/Falcon_9_first-stage_landing_tests\" title=\"Falcon 9 first-stage landing tests\">Booster<br/>landing</a>\n",
    "</th></tr>\n",
    "```"
   ]
  },
  {
   "cell_type": "markdown",
   "id": "e04f2238",
   "metadata": {},
   "source": [
    "Iterating through the `<th>` elements and applying the previously defined `extract_column_from_header()` to extract column name one by one"
   ]
  },
  {
   "cell_type": "code",
   "execution_count": 35,
   "id": "2a59cb82",
   "metadata": {},
   "outputs": [
    {
     "name": "stdout",
     "output_type": "stream",
     "text": [
      "Extracted Column Names:\n",
      "['Flight No.', 'Date and time ( )', 'Launch site', 'Payload', 'Payload mass', 'Orbit', 'Customer', 'Launch outcome', 'Flight No.', 'Date and time ( )', 'Launch site', 'Payload', 'Payload mass', 'Orbit', 'Customer', 'Launch outcome', 'Flight No.', 'Date and time ( )', 'Launch site', 'Payload', 'Payload mass', 'Orbit', 'Customer', 'Launch outcome', 'Flight No.', 'Date and time ( )', 'Launch site', 'Payload', 'Payload mass', 'Orbit', 'Customer', 'Launch outcome', 'N/A', 'Flight No.', 'Date and time ( )', 'Launch site', 'Payload', 'Payload mass', 'Orbit', 'Customer', 'Launch outcome', 'Flight No.', 'Date and time ( )', 'Launch site', 'Payload', 'Payload mass', 'Orbit', 'Customer', 'Launch outcome', 'Flight No.', 'Date and time ( )', 'Launch site', 'Payload', 'Payload mass', 'Orbit', 'Customer', 'Launch outcome', 'FH 2', 'FH 3', 'Flight No.', 'Date and time ( )', 'Launch site', 'Payload', 'Payload mass', 'Orbit', 'Customer', 'Launch outcome', 'Flight No.', 'Date and time ( )', 'Launch site', 'Payload', 'Payload mass', 'Orbit', 'Customer', 'Launch outcome', 'Flight No.', 'Date and time ( )', 'Launch site', 'Payload', 'Payload mass', 'Orbit', 'Customer', 'Launch outcome', 'Flight No.', 'Date and time ( )', 'Launch site', 'Payload', 'Payload mass', 'Orbit', 'Customer', 'Launch outcome', 'Flight No.', 'Date and time ( )', 'Launch site', 'Payload', 'Payload mass', 'Orbit', 'Customer', 'Launch outcome', 'N/A', 'Flight No.', 'Date and time ( )', 'Launch site', 'Payload', 'Payload mass', 'Orbit', 'Customer', 'Launch outcome', 'Flight No.', 'Date and time ( )', 'Launch site', 'Payload', 'Payload mass', 'Orbit', 'Customer', 'Launch outcome', 'Flight No.', 'Date and time ( )', 'Launch site', 'Payload', 'Payload mass', 'Orbit', 'Customer', 'Launch outcome', 'FH 2', 'FH 3', 'Flight No.', 'Date and time ( )', 'Launch site', 'Payload', 'Payload mass', 'Orbit', 'Customer', 'Launch outcome', 'Flight No.', 'Date and time ( )', 'Launch site', 'Payload', 'Payload mass', 'Orbit', 'Customer', 'Launch outcome', 'Date and time ( )', 'Launch site', 'Payload', 'Orbit', 'Customer', 'Date and time ( )', 'Launch site', 'Payload', 'Orbit', 'Customer', 'Date and time ( )', 'Launch site', 'Payload', 'Orbit', 'Customer', 'Date and time ( )', 'Launch site', 'Payload', 'Orbit', 'Customer', 't e SpaceX missions and payloads', 'Demo flights', 'logistics', 'Crewed missions', 'Commercial satellites', 'Scientific satellites', 'Military satellites', 'Rideshares', 'Transporter missions', 'Demo flights', 'logistics', 'Crewed missions', 'Commercial satellites', 'Scientific satellites', 'Military satellites', 'Rideshares', 'Transporter missions', 'Transporter missions', 't e SpaceX', 'Current', 'In development', 'Retired', 'Cancelled', 'Spacecraft', 'Cargo', 'Crewed', 'Test vehicles', 'Current', 'Retired', 'Unflown', 'Orbital', 'Atmospheric', 'Landing sites', 'Other facilities', 'Support', 'Contracts', 'R&D programs', 'Key people', 'Related', 'Current', 'In development', 'Retired', 'Cancelled', 'Cargo', 'Crewed', 'Current', 'Retired', 'Unflown', 'Orbital', 'Atmospheric', 't e Spaceflight lists and timelines', 'General', 'General', 'People', 'Vehicles', 'Launches by rocket type', 'Launches by spaceport', 'Agencies, companies and facilities', 'Other mission lists and timelines', 'General', 'People', 'Flight No.', 'Date and time ( )', 'Launch site', 'Payload', 'Payload mass', 'Orbit', 'Customer', 'Launch outcome', 'Flight No.', 'Date and time ( )', 'Launch site', 'Payload', 'Payload mass', 'Orbit', 'Customer', 'Launch outcome', 'Flight No.', 'Date and time ( )', 'Launch site', 'Payload', 'Payload mass', 'Orbit', 'Customer', 'Launch outcome', 'Flight No.', 'Date and time ( )', 'Launch site', 'Payload', 'Payload mass', 'Orbit', 'Customer', 'Launch outcome', 'N/A', 'Flight No.', 'Date and time ( )', 'Launch site', 'Payload', 'Payload mass', 'Orbit', 'Customer', 'Launch outcome', 'Flight No.', 'Date and time ( )', 'Launch site', 'Payload', 'Payload mass', 'Orbit', 'Customer', 'Launch outcome', 'Flight No.', 'Date and time ( )', 'Launch site', 'Payload', 'Payload mass', 'Orbit', 'Customer', 'Launch outcome', 'FH 2', 'FH 3', 'Flight No.', 'Date and time ( )', 'Launch site', 'Payload', 'Payload mass', 'Orbit', 'Customer', 'Launch outcome', 'Flight No.', 'Date and time ( )', 'Launch site', 'Payload', 'Payload mass', 'Orbit', 'Customer', 'Launch outcome', 'Date and time ( )', 'Launch site', 'Payload', 'Orbit', 'Customer', 'Date and time ( )', 'Launch site', 'Payload', 'Orbit', 'Customer', 'Date and time ( )', 'Launch site', 'Payload', 'Orbit', 'Customer', 'Date and time ( )', 'Launch site', 'Payload', 'Orbit', 'Customer', 'e SpaceX missions and payloads', 'Demo flights', 'logistics', 'Crewed missions', 'Commercial satellites', 'Scientific satellites', 'Military satellites', 'Rideshares', 'Transporter missions', 'Demo flights', 'logistics', 'Crewed missions', 'Commercial satellites', 'Scientific satellites', 'Military satellites', 'Rideshares', 'Transporter missions', 'Transporter missions', 'e SpaceX', 'Current', 'In development', 'Retired', 'Cancelled', 'Spacecraft', 'Cargo', 'Crewed', 'Test vehicles', 'Current', 'Retired', 'Unflown', 'Orbital', 'Atmospheric', 'Landing sites', 'Other facilities', 'Support', 'Contracts', 'R&D programs', 'Key people', 'Related', 'Current', 'In development', 'Retired', 'Cancelled', 'Cargo', 'Crewed', 'Current', 'Retired', 'Unflown', 'Orbital', 'Atmospheric', 'e Spaceflight lists and timelines', 'General', 'General', 'People', 'Vehicles', 'Launches by rocket type', 'Launches by spaceport', 'Agencies, companies and facilities', 'Other mission lists and timelines', 'General', 'People', 'Flight No.', 'Date and time ( )', 'Launch site', 'Payload', 'Payload mass', 'Orbit', 'Customer', 'Launch outcome', 'Flight No.', 'Date and time ( )', 'Launch site', 'Payload', 'Payload mass', 'Orbit', 'Customer', 'Launch outcome', 'Flight No.', 'Date and time ( )', 'Launch site', 'Payload', 'Payload mass', 'Orbit', 'Customer', 'Launch outcome', 'Flight No.', 'Date and time ( )', 'Launch site', 'Payload', 'Payload mass', 'Orbit', 'Customer', 'Launch outcome', 'N/A', 'Flight No.', 'Date and time ( )', 'Launch site', 'Payload', 'Payload mass', 'Orbit', 'Customer', 'Launch outcome', 'Flight No.', 'Date and time ( )', 'Launch site', 'Payload', 'Payload mass', 'Orbit', 'Customer', 'Launch outcome', 'Flight No.', 'Date and time ( )', 'Launch site', 'Payload', 'Payload mass', 'Orbit', 'Customer', 'Launch outcome', 'FH 2', 'FH 3', 'Flight No.', 'Date and time ( )', 'Launch site', 'Payload', 'Payload mass', 'Orbit', 'Customer', 'Launch outcome', 'Flight No.', 'Date and time ( )', 'Launch site', 'Payload', 'Payload mass', 'Orbit', 'Customer', 'Launch outcome', 'Flight No.', 'Date and time ( )', 'Launch site', 'Payload', 'Payload mass', 'Orbit', 'Customer', 'Launch outcome', 'Flight No.', 'Date and time ( )', 'Launch site', 'Payload', 'Payload mass', 'Orbit', 'Customer', 'Launch outcome', 'Flight No.', 'Date and time ( )', 'Launch site', 'Payload', 'Payload mass', 'Orbit', 'Customer', 'Launch outcome', 'N/A', 'Flight No.', 'Date and time ( )', 'Launch site', 'Payload', 'Payload mass', 'Orbit', 'Customer', 'Launch outcome', 'Flight No.', 'Date and time ( )', 'Launch site', 'Payload', 'Payload mass', 'Orbit', 'Customer', 'Launch outcome', 'Flight No.', 'Date and time ( )', 'Launch site', 'Payload', 'Payload mass', 'Orbit', 'Customer', 'Launch outcome', 'FH 2', 'FH 3', 'Flight No.', 'Date and time ( )', 'Launch site', 'Payload', 'Payload mass', 'Orbit', 'Customer', 'Launch outcome', 'Flight No.', 'Date and time ( )', 'Launch site', 'Payload', 'Payload mass', 'Orbit', 'Customer', 'Launch outcome', 'Date and time ( )', 'Launch site', 'Payload', 'Orbit', 'Customer', 'Date and time ( )', 'Launch site', 'Payload', 'Orbit', 'Customer', 'Date and time ( )', 'Launch site', 'Payload', 'Orbit', 'Customer', 'Date and time ( )', 'Launch site', 'Payload', 'Orbit', 'Customer', 'SpaceX missions and payloads', 'Demo flights', 'logistics', 'Crewed missions', 'Commercial satellites', 'Scientific satellites', 'Military satellites', 'Rideshares', 'Transporter missions', 'Demo flights', 'logistics', 'Crewed missions', 'Commercial satellites', 'Scientific satellites', 'Military satellites', 'Rideshares', 'Transporter missions', 'Transporter missions', 'SpaceX', 'Current', 'In development', 'Retired', 'Cancelled', 'Spacecraft', 'Cargo', 'Crewed', 'Test vehicles', 'Current', 'Retired', 'Unflown', 'Orbital', 'Atmospheric', 'Landing sites', 'Other facilities', 'Support', 'Contracts', 'R&D programs', 'Key people', 'Related', 'Current', 'In development', 'Retired', 'Cancelled', 'Cargo', 'Crewed', 'Current', 'Retired', 'Unflown', 'Orbital', 'Atmospheric', 'Spaceflight lists and timelines', 'General', 'General', 'People', 'Vehicles', 'Launches by rocket type', 'Launches by spaceport', 'Agencies, companies and facilities', 'Other mission lists and timelines', 'General', 'People']\n"
     ]
    }
   ],
   "source": [
    "# Start iterating from the third table (index 2)\n",
    "for table in html_tables[2:]:\n",
    "    # Iterate through each th element in the current table\n",
    "    for th in table.find_all('th'):\n",
    "        # Apply the provided extract_column_from_header() function to get a column name\n",
    "        name = extract_column_from_header(th)  # You need to define this function\n",
    "\n",
    "        # Check if the extracted column name is not None and has a length greater than 0\n",
    "        if name is not None and len(name) > 0:\n",
    "            column_names.append(name)\n",
    "\n",
    "print(\"Extracted Column Names:\")\n",
    "print(column_names)"
   ]
  },
  {
   "cell_type": "markdown",
   "id": "d1e32015",
   "metadata": {},
   "source": [
    "### 3 Creating a data frame by parsing the launch HTML tables"
   ]
  },
  {
   "cell_type": "markdown",
   "id": "86b80e91",
   "metadata": {},
   "source": [
    "Creating an empty dictionary with keys from the extracted column names"
   ]
  },
  {
   "cell_type": "code",
   "execution_count": 36,
   "id": "b38a85c5",
   "metadata": {},
   "outputs": [],
   "source": [
    "launch_dict= dict.fromkeys(column_names)\n",
    "\n",
    "# Removing an irrelvant column\n",
    "del launch_dict['Date and time ( )']\n",
    "\n",
    "# initial the launch_dict with each value to be an empty list\n",
    "launch_dict['Flight No.'] = []\n",
    "launch_dict['Launch site'] = []\n",
    "launch_dict['Payload'] = []\n",
    "launch_dict['Payload mass'] = []\n",
    "launch_dict['Orbit'] = []\n",
    "launch_dict['Customer'] = []\n",
    "launch_dict['Launch outcome'] = []\n",
    "# Adding some new columns\n",
    "launch_dict['Version Booster']=[]\n",
    "launch_dict['Booster landing']=[]\n",
    "launch_dict['Date']=[]\n",
    "launch_dict['Time']=[]"
   ]
  },
  {
   "cell_type": "code",
   "execution_count": 38,
   "id": "12fa91de",
   "metadata": {},
   "outputs": [],
   "source": [
    "extracted_row = 0\n",
    "\n",
    "# Extract each table \n",
    "for table_number, table in enumerate(soup.find_all('table', \"wikitable plainrowheaders collapsible\")):\n",
    "    # get table row \n",
    "    for rows in table.find_all(\"tr\"):\n",
    "        # check to see if first table heading is a number corresponding to launch a number \n",
    "        if rows.th:\n",
    "            if rows.th.string:\n",
    "                flight_number = rows.th.string.strip()\n",
    "                flag = flight_number.isdigit()\n",
    "        else:\n",
    "            flag = False\n",
    "        # get table element \n",
    "        row = rows.find_all('td')\n",
    "        # if it is a number, save cells in a dictionary \n",
    "        if flag:\n",
    "            extracted_row += 1\n",
    "            # Flight Number value\n",
    "            launch_dict['Flight No.'].append(flight_number)\n",
    "\n",
    "            datatimelist = date_time(row[0])\n",
    "\n",
    "            # Date value\n",
    "            launch_dict['Date'].append(datatimelist[0].strip(','))\n",
    "\n",
    "            # Time value\n",
    "            launch_dict['Time'].append(datatimelist[1])\n",
    "\n",
    "            # Booster version\n",
    "            bv = booster_version(row[1])\n",
    "            if not bv:\n",
    "                bv = row[1].a.string\n",
    "            launch_dict['Version Booster'].append(bv)\n",
    "\n",
    "            # Launch Site\n",
    "            launch_dict['Launch site'].append(row[2].a.string)\n",
    "\n",
    "            # Payload\n",
    "            launch_dict['Payload'].append(row[3].a.string)\n",
    "\n",
    "            # Payload Mass\n",
    "            launch_dict['Payload mass'].append(get_mass(row[4]))\n",
    "\n",
    "            # Orbit\n",
    "            launch_dict['Orbit'].append(row[5].a.string)\n",
    "\n",
    "            # Customer\n",
    "            customer_element = row[6].a\n",
    "            customer = customer_element.string if customer_element else row[6].get_text()\n",
    "            launch_dict['Customer'].append(customer)\n",
    "\n",
    "            # Launch outcome\n",
    "            launch_dict['Launch outcome'].append(list(row[7].strings)[0])\n",
    "\n",
    "            # Booster landing\n",
    "            launch_dict['Booster landing'].append(landing_status(row[8]))"
   ]
  },
  {
   "cell_type": "markdown",
   "id": "36e7b15b",
   "metadata": {},
   "source": [
    "Checking length of each key in the dictionary before converting to pandas data frame"
   ]
  },
  {
   "cell_type": "code",
   "execution_count": 40,
   "id": "d3c57c15",
   "metadata": {},
   "outputs": [
    {
     "name": "stdout",
     "output_type": "stream",
     "text": [
      "Length of Flight No.: 227\n",
      "Length of Launch site: 227\n",
      "Length of Payload: 227\n",
      "Length of Payload mass: 227\n",
      "Length of Orbit: 227\n",
      "Length of Customer: 226\n",
      "Length of Launch outcome: 226\n",
      "Length of N/A: 0\n",
      "Length of FH 2: 0\n",
      "Length of FH 3: 0\n",
      "Length of t e SpaceX missions and payloads: 0\n",
      "Length of Demo flights: 0\n",
      "Length of logistics: 0\n",
      "Length of Crewed missions: 0\n",
      "Length of Commercial satellites: 0\n",
      "Length of Scientific satellites: 0\n",
      "Length of Military satellites: 0\n",
      "Length of Rideshares: 0\n",
      "Length of Transporter missions: 0\n",
      "Length of t e SpaceX: 0\n",
      "Length of Current: 0\n",
      "Length of In development: 0\n",
      "Length of Retired: 0\n",
      "Length of Cancelled: 0\n",
      "Length of Spacecraft: 0\n",
      "Length of Cargo: 0\n",
      "Length of Crewed: 0\n",
      "Length of Test vehicles: 0\n",
      "Length of Unflown: 0\n",
      "Length of Orbital: 0\n",
      "Length of Atmospheric: 0\n",
      "Length of Landing sites: 0\n",
      "Length of Other facilities: 0\n",
      "Length of Support: 0\n",
      "Length of Contracts: 0\n",
      "Length of R&D programs: 0\n",
      "Length of Key people: 0\n",
      "Length of Related: 0\n",
      "Length of t e Spaceflight lists and timelines: 0\n",
      "Length of General: 0\n",
      "Length of People: 0\n",
      "Length of Vehicles: 0\n",
      "Length of Launches by rocket type: 0\n",
      "Length of Launches by spaceport: 0\n",
      "Length of Agencies, companies and facilities: 0\n",
      "Length of Other mission lists and timelines: 0\n",
      "Length of e SpaceX missions and payloads: 0\n",
      "Length of e SpaceX: 0\n",
      "Length of e Spaceflight lists and timelines: 0\n",
      "Length of SpaceX missions and payloads: 0\n",
      "Length of SpaceX: 0\n",
      "Length of Spaceflight lists and timelines: 0\n",
      "Length of Version Booster: 227\n",
      "Length of Booster landing: 226\n",
      "Length of Date: 227\n",
      "Length of Time: 227\n"
     ]
    }
   ],
   "source": [
    "for key, value in launch_dict.items():\n",
    "    # Check if the value is not None before calculating the length\n",
    "    if value is not None:\n",
    "        print(f\"Length of {key}: {len(value)}\")\n",
    "    else:\n",
    "        print(f\"Length of {key}: 0\")"
   ]
  },
  {
   "cell_type": "markdown",
   "id": "a74e6c7c",
   "metadata": {},
   "source": [
    "Dropping lists with length 0"
   ]
  },
  {
   "cell_type": "code",
   "execution_count": 41,
   "id": "9ead5a5a",
   "metadata": {},
   "outputs": [],
   "source": [
    "# Create a new dictionary to store non-empty lists\n",
    "non_empty_launch_dict = {}\n",
    "\n",
    "# Iterate through the dictionary items\n",
    "for key, value in launch_dict.items():\n",
    "    # Check if the value list has a length greater than 0\n",
    "    if value is not None and len(value) > 0:\n",
    "        non_empty_launch_dict[key] = value\n",
    "\n",
    "# Replace the original launch_dict with the non-empty dictionary\n",
    "launch_dict = non_empty_launch_dict"
   ]
  },
  {
   "cell_type": "code",
   "execution_count": 42,
   "id": "c90640b5",
   "metadata": {},
   "outputs": [
    {
     "name": "stdout",
     "output_type": "stream",
     "text": [
      "Length of Flight No.: 227\n",
      "Length of Launch site: 227\n",
      "Length of Payload: 227\n",
      "Length of Payload mass: 227\n",
      "Length of Orbit: 227\n",
      "Length of Customer: 226\n",
      "Length of Launch outcome: 226\n",
      "Length of Version Booster: 227\n",
      "Length of Booster landing: 226\n",
      "Length of Date: 227\n",
      "Length of Time: 227\n"
     ]
    }
   ],
   "source": [
    "# Iterate through the dictionary items\n",
    "for key, value in launch_dict.items():\n",
    "    # Calculate and print the length of each list\n",
    "    print(f\"Length of {key}: {len(value)}\")"
   ]
  },
  {
   "cell_type": "markdown",
   "id": "50309a59",
   "metadata": {},
   "source": [
    "Setting the length of all lists to 226"
   ]
  },
  {
   "cell_type": "code",
   "execution_count": 43,
   "id": "42fec45e",
   "metadata": {},
   "outputs": [],
   "source": [
    "desired_length = 226\n",
    "\n",
    "# Iterate through the dictionary items\n",
    "for key, value in launch_dict.items():\n",
    "    # Reduce the length of the list if it's longer than the desired length\n",
    "    if len(value) > desired_length:\n",
    "            value.pop()"
   ]
  },
  {
   "cell_type": "code",
   "execution_count": 44,
   "id": "44da256f",
   "metadata": {},
   "outputs": [
    {
     "name": "stdout",
     "output_type": "stream",
     "text": [
      "Length of Flight No.: 226\n",
      "Length of Launch site: 226\n",
      "Length of Payload: 226\n",
      "Length of Payload mass: 226\n",
      "Length of Orbit: 226\n",
      "Length of Customer: 226\n",
      "Length of Launch outcome: 226\n",
      "Length of Version Booster: 226\n",
      "Length of Booster landing: 226\n",
      "Length of Date: 226\n",
      "Length of Time: 226\n"
     ]
    }
   ],
   "source": [
    "# Iterate through the dictionary items\n",
    "for key, value in launch_dict.items():\n",
    "    # Calculate and print the length of each list\n",
    "    print(f\"Length of {key}: {len(value)}\")"
   ]
  },
  {
   "cell_type": "markdown",
   "id": "8fadbcf4",
   "metadata": {},
   "source": [
    "Converting to Pandas dataframe"
   ]
  },
  {
   "cell_type": "code",
   "execution_count": 46,
   "id": "02f1c2a3",
   "metadata": {},
   "outputs": [
    {
     "data": {
      "text/html": [
       "<div>\n",
       "<style scoped>\n",
       "    .dataframe tbody tr th:only-of-type {\n",
       "        vertical-align: middle;\n",
       "    }\n",
       "\n",
       "    .dataframe tbody tr th {\n",
       "        vertical-align: top;\n",
       "    }\n",
       "\n",
       "    .dataframe thead th {\n",
       "        text-align: right;\n",
       "    }\n",
       "</style>\n",
       "<table border=\"1\" class=\"dataframe\">\n",
       "  <thead>\n",
       "    <tr style=\"text-align: right;\">\n",
       "      <th></th>\n",
       "      <th>Flight No.</th>\n",
       "      <th>Launch site</th>\n",
       "      <th>Payload</th>\n",
       "      <th>Payload mass</th>\n",
       "      <th>Orbit</th>\n",
       "      <th>Customer</th>\n",
       "      <th>Launch outcome</th>\n",
       "      <th>Version Booster</th>\n",
       "      <th>Booster landing</th>\n",
       "      <th>Date</th>\n",
       "      <th>Time</th>\n",
       "    </tr>\n",
       "  </thead>\n",
       "  <tbody>\n",
       "    <tr>\n",
       "      <th>0</th>\n",
       "      <td>1</td>\n",
       "      <td>CCAFS</td>\n",
       "      <td>Dragon Spacecraft Qualification Unit</td>\n",
       "      <td>0</td>\n",
       "      <td>LEO</td>\n",
       "      <td>SpaceX</td>\n",
       "      <td>Success\\n</td>\n",
       "      <td>F9 v1.0B0003.1</td>\n",
       "      <td>Failure</td>\n",
       "      <td>4 June 2010</td>\n",
       "      <td>18:45</td>\n",
       "    </tr>\n",
       "    <tr>\n",
       "      <th>1</th>\n",
       "      <td>2</td>\n",
       "      <td>CCAFS</td>\n",
       "      <td>Dragon</td>\n",
       "      <td>0</td>\n",
       "      <td>LEO</td>\n",
       "      <td>NASA</td>\n",
       "      <td>Success</td>\n",
       "      <td>F9 v1.0B0004.1</td>\n",
       "      <td>Failure</td>\n",
       "      <td>8 December 2010</td>\n",
       "      <td>15:43</td>\n",
       "    </tr>\n",
       "    <tr>\n",
       "      <th>2</th>\n",
       "      <td>3</td>\n",
       "      <td>CCAFS</td>\n",
       "      <td>Dragon</td>\n",
       "      <td>525 kg</td>\n",
       "      <td>LEO</td>\n",
       "      <td>NASA</td>\n",
       "      <td>Success</td>\n",
       "      <td>F9 v1.0B0005.1</td>\n",
       "      <td>No attempt\\n</td>\n",
       "      <td>22 May 2012</td>\n",
       "      <td>07:44</td>\n",
       "    </tr>\n",
       "    <tr>\n",
       "      <th>3</th>\n",
       "      <td>4</td>\n",
       "      <td>CCAFS</td>\n",
       "      <td>SpaceX CRS-1</td>\n",
       "      <td>4,700 kg</td>\n",
       "      <td>LEO</td>\n",
       "      <td>NASA</td>\n",
       "      <td>Success\\n</td>\n",
       "      <td>F9 v1.0B0006.1</td>\n",
       "      <td>No attempt</td>\n",
       "      <td>8 October 2012</td>\n",
       "      <td>00:35</td>\n",
       "    </tr>\n",
       "    <tr>\n",
       "      <th>4</th>\n",
       "      <td>5</td>\n",
       "      <td>CCAFS</td>\n",
       "      <td>SpaceX CRS-2</td>\n",
       "      <td>4,877 kg</td>\n",
       "      <td>LEO</td>\n",
       "      <td>NASA</td>\n",
       "      <td>Success\\n</td>\n",
       "      <td>F9 v1.0B0007.1</td>\n",
       "      <td>No attempt\\n</td>\n",
       "      <td>1 March 2013</td>\n",
       "      <td>15:10</td>\n",
       "    </tr>\n",
       "  </tbody>\n",
       "</table>\n",
       "</div>"
      ],
      "text/plain": [
       "  Flight No. Launch site                               Payload Payload mass  \\\n",
       "0          1       CCAFS  Dragon Spacecraft Qualification Unit            0   \n",
       "1          2       CCAFS                                Dragon            0   \n",
       "2          3       CCAFS                                Dragon       525 kg   \n",
       "3          4       CCAFS                          SpaceX CRS-1     4,700 kg   \n",
       "4          5       CCAFS                          SpaceX CRS-2     4,877 kg   \n",
       "\n",
       "  Orbit Customer Launch outcome Version Booster Booster landing  \\\n",
       "0   LEO   SpaceX      Success\\n  F9 v1.0B0003.1         Failure   \n",
       "1   LEO     NASA        Success  F9 v1.0B0004.1         Failure   \n",
       "2   LEO     NASA        Success  F9 v1.0B0005.1    No attempt\\n   \n",
       "3   LEO     NASA      Success\\n  F9 v1.0B0006.1      No attempt   \n",
       "4   LEO     NASA      Success\\n  F9 v1.0B0007.1    No attempt\\n   \n",
       "\n",
       "              Date   Time  \n",
       "0      4 June 2010  18:45  \n",
       "1  8 December 2010  15:43  \n",
       "2      22 May 2012  07:44  \n",
       "3   8 October 2012  00:35  \n",
       "4     1 March 2013  15:10  "
      ]
     },
     "execution_count": 46,
     "metadata": {},
     "output_type": "execute_result"
    }
   ],
   "source": [
    "df=pd.DataFrame(launch_dict)\n",
    "df.head()"
   ]
  },
  {
   "cell_type": "markdown",
   "id": "98957681",
   "metadata": {},
   "source": [
    "Exporting df to CSV"
   ]
  },
  {
   "cell_type": "code",
   "execution_count": 47,
   "id": "a8a4d177",
   "metadata": {},
   "outputs": [],
   "source": [
    "df.to_csv('spacex_web_scraped.csv', index=False)"
   ]
  }
 ],
 "metadata": {
  "kernelspec": {
   "display_name": "Python 3 (ipykernel)",
   "language": "python",
   "name": "python3"
  },
  "language_info": {
   "codemirror_mode": {
    "name": "ipython",
    "version": 3
   },
   "file_extension": ".py",
   "mimetype": "text/x-python",
   "name": "python",
   "nbconvert_exporter": "python",
   "pygments_lexer": "ipython3",
   "version": "3.11.3"
  }
 },
 "nbformat": 4,
 "nbformat_minor": 5
}
